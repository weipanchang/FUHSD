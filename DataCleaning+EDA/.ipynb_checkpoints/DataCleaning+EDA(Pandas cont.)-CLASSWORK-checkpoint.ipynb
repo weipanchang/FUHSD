{
 "cells": [
  {
   "cell_type": "markdown",
   "metadata": {},
   "source": [
    "# DATA CLEANING + EDA (Pandas cont.)\n",
    "\n",
    "Created By: Angelica Rojas"
   ]
  },
  {
   "cell_type": "code",
   "execution_count": null,
   "metadata": {
    "collapsed": true
   },
   "outputs": [],
   "source": [
    "import pandas as pd\n",
    "import re"
   ]
  },
  {
   "cell_type": "markdown",
   "metadata": {},
   "source": [
    "## Upload Data"
   ]
  },
  {
   "cell_type": "markdown",
   "metadata": {},
   "source": [
    "The data for this notebook could be found at this link: https://data.cityofberkeley.info/Public-Safety/Berkeley-PD-Calls-for-Service/k2nh-s5h5 . \n",
    "\n",
    "For the purpose of this lesson we will use the CSV file of the data."
   ]
  },
  {
   "cell_type": "code",
   "execution_count": null,
   "metadata": {},
   "outputs": [],
   "source": [
    "df = pd.read_csv(\"PATH_NAME\")\n",
    "\n",
    "#what does this do?\n",
    "df.head()"
   ]
  },
  {
   "cell_type": "markdown",
   "metadata": {},
   "source": [
    "Why did we only want to display the first 5 rows of the dataframe?\n",
    "\n",
    "What if we wanted to see the size of this dataframe?"
   ]
  },
  {
   "cell_type": "code",
   "execution_count": null,
   "metadata": {},
   "outputs": [],
   "source": [
    "# number of rows\n",
    "\n",
    "\"CHECK # ROWS OF DF\""
   ]
  },
  {
   "cell_type": "code",
   "execution_count": null,
   "metadata": {},
   "outputs": [],
   "source": [
    "# shape of df (rows, columns)\n",
    "\n",
    "\"CHECK SHAPE OF DF\""
   ]
  },
  {
   "cell_type": "markdown",
   "metadata": {},
   "source": [
    "# Part 1: DATA CLEANING"
   ]
  },
  {
   "cell_type": "markdown",
   "metadata": {},
   "source": [
    "## Column Names\n",
    "\n",
    "What do all these column names even mean? \n",
    "\n",
    "On that same website, BPD offers a narrative pdf file that describes the data they provided. https://data.cityofberkeley.info/Public-Safety/Berkeley-PD-Calls-for-Service/k2nh-s5h5\n",
    "\n",
    "\n",
    "<img src = \"DF_col_desc.png\">"
   ]
  },
  {
   "cell_type": "markdown",
   "metadata": {},
   "source": [
    "## Change Column Name(s)"
   ]
  },
  {
   "cell_type": "markdown",
   "metadata": {},
   "source": [
    "Why would we want to change the column names?"
   ]
  },
  {
   "cell_type": "code",
   "execution_count": null,
   "metadata": {},
   "outputs": [],
   "source": [
    "df = df.rename(columns={'ORIG_COL_NAME': 'NEW_COL_NAME'})\n",
    "df.head()"
   ]
  },
  {
   "cell_type": "markdown",
   "metadata": {},
   "source": [
    "## Investigating Columns"
   ]
  },
  {
   "cell_type": "markdown",
   "metadata": {},
   "source": [
    "What is the difference between \"Block_Location\" and \"BLKADDR\" columns in the dataframe? From the look of the DF that is displayed it looks as though they are almost the same."
   ]
  },
  {
   "cell_type": "code",
   "execution_count": null,
   "metadata": {},
   "outputs": [],
   "source": [
    "#Let's look at the first value in \"Block_Location\"\n",
    "df[\"Block_Location\"][0]"
   ]
  },
  {
   "cell_type": "code",
   "execution_count": null,
   "metadata": {
    "collapsed": true
   },
   "outputs": [],
   "source": [
    "#Let's look at the first value in \"BLKADDR\"\n",
    "df[\"BLKADDR\"][0]"
   ]
  },
  {
   "cell_type": "markdown",
   "metadata": {},
   "source": [
    "## Create New Columns"
   ]
  },
  {
   "cell_type": "markdown",
   "metadata": {},
   "source": [
    "What is new information about \"Block_Location\" that we can actually use and save?\n",
    "\n",
    "Let's create new columns for the information we extracted from those values."
   ]
  },
  {
   "cell_type": "code",
   "execution_count": null,
   "metadata": {},
   "outputs": [],
   "source": [
    "coordinates = [[\"\".join(x.split()) for x in re.split(r'[()]',i) if x.strip()][-1] for i in df[\"Block_Location\"]]\n",
    "\n",
    "#new values\n",
    "longitude =[[\"\".join(x.split()) for x in re.split(r'[,]',i) if x.strip()][-1] for i in coordinates]\n",
    "latitude = [[\"\".join(x.split()) for x in re.split(r'[,]',i) if x.strip()][0] for i in coordinates]\n",
    "\n",
    "#create new columns for latitude and longitude\n",
    "...\n",
    "\n",
    "#Check if it worked\n",
    "df.head()\n",
    "\n"
   ]
  },
  {
   "cell_type": "markdown",
   "metadata": {},
   "source": [
    "## Drop Columns"
   ]
  },
  {
   "cell_type": "markdown",
   "metadata": {},
   "source": [
    "We got all the information we needed from \"Block_Location\" keeping it would be taking up extra room in our dataframe. \n",
    "\n",
    "Let's drop the \"Block_Location\" from the dataframe."
   ]
  },
  {
   "cell_type": "code",
   "execution_count": null,
   "metadata": {},
   "outputs": [],
   "source": [
    "df = df.drop(\"COL_NAME\", axis = 1)\n",
    "\n",
    "#Check if it dropped\n",
    "df.head()"
   ]
  },
  {
   "cell_type": "markdown",
   "metadata": {},
   "source": [
    "We can drop other columns that we do not think would add useful information to our analysis. \n",
    "\n",
    "Although we did get this data from the Berkeley PD, let's make sure all values in \"City\" are \"Berkeley\". Also, Let's make sure the \"State\" is \"CA\" for all values."
   ]
  },
  {
   "cell_type": "code",
   "execution_count": null,
   "metadata": {},
   "outputs": [],
   "source": [
    "df.City.unique()"
   ]
  },
  {
   "cell_type": "code",
   "execution_count": null,
   "metadata": {},
   "outputs": [],
   "source": [
    "df.State.unique()"
   ]
  },
  {
   "cell_type": "markdown",
   "metadata": {},
   "source": [
    "We checked all the unique values for columns \"State\" and \"City\" and they are the results we wanted, therefore, we do not need those columns anymore. \n",
    "\n",
    "Drop the columns listed above."
   ]
  },
  {
   "cell_type": "code",
   "execution_count": null,
   "metadata": {},
   "outputs": [],
   "source": [
    "#drop City and State columns\n",
    "df = ...\n",
    "\n",
    "#Check if they dropped\n",
    "df.head()"
   ]
  },
  {
   "cell_type": "markdown",
   "metadata": {},
   "source": [
    "## Dealing With Null Values (NaN)"
   ]
  },
  {
   "cell_type": "markdown",
   "metadata": {},
   "source": [
    "<img src = \"null_def.png\">\n",
    "\n",
    "REFERENCE: https://pandas.pydata.org/pandas-docs/stable/missing_data.html"
   ]
  },
  {
   "cell_type": "markdown",
   "metadata": {},
   "source": [
    "This is a big data set and we can't look through each value one at a time. How can we make sure that there is a value for each category?"
   ]
  },
  {
   "cell_type": "code",
   "execution_count": null,
   "metadata": {},
   "outputs": [],
   "source": [
    "df.isnull().sum()"
   ]
  },
  {
   "cell_type": "markdown",
   "metadata": {},
   "source": [
    "Let's look at the rows where \"BLKADDR\" is a null value. Let's make a temporary sub-dataframe."
   ]
  },
  {
   "cell_type": "code",
   "execution_count": null,
   "metadata": {},
   "outputs": [],
   "source": [
    "null_temp = df[pd.isnull(df['BLKADDR'])]\n",
    "null_temp"
   ]
  },
  {
   "cell_type": "markdown",
   "metadata": {},
   "source": [
    "Does the number of rows in the dataframe match the values above?"
   ]
  },
  {
   "cell_type": "code",
   "execution_count": null,
   "metadata": {},
   "outputs": [],
   "source": [
    "#get number of rows of new df\n",
    "\n",
    "..."
   ]
  },
  {
   "cell_type": "markdown",
   "metadata": {},
   "source": [
    "Investigate the dataframe, do you see somethng interesting that all these rows share?\n",
    "\n",
    "Are the Latitude/Longitude values all the same for the \"NaN\" values?"
   ]
  },
  {
   "cell_type": "code",
   "execution_count": null,
   "metadata": {},
   "outputs": [],
   "source": [
    "#get unique values of latitude\n",
    "\n",
    "..."
   ]
  },
  {
   "cell_type": "code",
   "execution_count": null,
   "metadata": {},
   "outputs": [],
   "source": [
    "#get unique values of longitude\n",
    "\n",
    "..."
   ]
  },
  {
   "cell_type": "markdown",
   "metadata": {},
   "source": [
    "## Boolean Slicing"
   ]
  },
  {
   "cell_type": "markdown",
   "metadata": {},
   "source": [
    "Let's look at the whole dataset to see if there are any rows with that Latitude and Longitude combination that might have a \"BLKADDR\" associated with it.  "
   ]
  },
  {
   "cell_type": "code",
   "execution_count": null,
   "metadata": {},
   "outputs": [],
   "source": [
    "df[(df[\"LATITUDE\"] == '37.869058') & (df[\"LONGITUDE\"] == '-122.270455')]"
   ]
  },
  {
   "cell_type": "code",
   "execution_count": null,
   "metadata": {},
   "outputs": [],
   "source": [
    "#get unique values of BLKADDR for the Lat/Long combo\n",
    "\n",
    "..."
   ]
  },
  {
   "cell_type": "markdown",
   "metadata": {},
   "source": [
    "## Drop Null Values (NaN)"
   ]
  },
  {
   "cell_type": "markdown",
   "metadata": {},
   "source": [
    "We could essentially go to Google and try to figure out the BLKADDR ourselves, but to remove any problems that may occur while searching let's just drop all the rows that include null values"
   ]
  },
  {
   "cell_type": "code",
   "execution_count": null,
   "metadata": {
    "collapsed": true
   },
   "outputs": [],
   "source": [
    "#drop rows that have null values\n",
    "df = df.dropna(axis = 0, how = \"any\")"
   ]
  },
  {
   "cell_type": "code",
   "execution_count": null,
   "metadata": {},
   "outputs": [],
   "source": [
    "#now find out how many null values within the df\n",
    "#What should you see when you run this?\n",
    "..."
   ]
  },
  {
   "cell_type": "markdown",
   "metadata": {},
   "source": [
    "# <font color = \"red\"> YOUR TURN! </font>\n",
    "\n",
    "### What is the difference between \"EVENTDT\" and \"EVENTTM\"? How can we clean our columns to reflect the data that is useful?\n",
    "\n",
    "HINT: Focus on EVENTDT"
   ]
  },
  {
   "cell_type": "code",
   "execution_count": null,
   "metadata": {},
   "outputs": [],
   "source": [
    "#Slice the string to get the information you want and set to the variable\n",
    "...\n",
    "\n",
    "#Replace \"EVENTDT\" with new variable\n",
    "...\n",
    "\n",
    "#check if it worked\n",
    "df.head()"
   ]
  },
  {
   "cell_type": "markdown",
   "metadata": {},
   "source": [
    "### Drop the \"InDbDate\" column"
   ]
  },
  {
   "cell_type": "code",
   "execution_count": null,
   "metadata": {},
   "outputs": [],
   "source": [
    "...\n",
    "\n",
    "#Check that it actually dropped\n",
    "df.head()"
   ]
  },
  {
   "cell_type": "markdown",
   "metadata": {},
   "source": [
    "### TRICKY QUESTION"
   ]
  },
  {
   "cell_type": "markdown",
   "metadata": {},
   "source": [
    "### Column \"D.O.W.\" can be a bit confusing with the numbers. Replace the numbers with the appropriate day it corresponds to. \n",
    "\n",
    "You can find the days it corresponds to in the beginning of the notebook. \n",
    "\n",
    "##### HINT: You may need to use a dictionary, the map function, or the zip function\n",
    "\n",
    "DICT:\n",
    "https://www.programiz.com/python-programming/methods/built-in/dict\n",
    "\n",
    "MAP:\n",
    "https://www.programiz.com/python-programming/methods/built-in/map\n",
    "\n",
    "ZIP:\n",
    "https://www.programiz.com/python-programming/methods/built-in/zip"
   ]
  },
  {
   "cell_type": "code",
   "execution_count": null,
   "metadata": {},
   "outputs": [],
   "source": [
    "# dow = {0:\"Sunday\",1:\"Monday\",2:\"Tuesday\",3:\"Wednesday\", 4:\"Thursday\", 5:\"Friday\", 6:\"Saturday\"}\n",
    "# df[\"D.O.W.\"] = df[\"D.O.W.\"].map(dow)\n",
    "\n",
    "#Check if it worked\n",
    "df.head()"
   ]
  },
  {
   "cell_type": "markdown",
   "metadata": {},
   "source": [
    "# Part 2: EXPLORATORY DATA ANALYSIS\n",
    "\n",
    "<h3>\"Exploratory data analysis or 'EDA' is a <b>critical</b> beginning step in analyzing the data from an experiment.</h3>\n",
    "\n",
    "<b>Here are the main reasons we use EDA:</b>\n",
    "<ul>\n",
    "• detection of mistakes<br><br>\n",
    "• checking of assumptions<br><br>\n",
    "• preliminary selection of appropriate models<br><br>\n",
    "• determining relationships among the explanatory variables, and<br><br>\n",
    "• assessing the direction and rough size of relationships between explanatory and outcome variables.\"</ul>\n",
    "REFERENCE: http://www.stat.cmu.edu/~hseltman/309/Book/chapter4.pdf\n"
   ]
  },
  {
   "cell_type": "markdown",
   "metadata": {},
   "source": [
    "## Now what?\n",
    "\n",
    "We have cleaned our data to the best of our ability based on the initial look. Now let's try to look at the <b>relationships</b> between different values. "
   ]
  },
  {
   "cell_type": "code",
   "execution_count": null,
   "metadata": {},
   "outputs": [],
   "source": [
    "df.head()"
   ]
  },
  {
   "cell_type": "markdown",
   "metadata": {},
   "source": [
    "Let's look at the different types of offenses that were called in. We know that using the .unique() function will return all the unique values in the column, but what if we wanted to also <b>count</b> the different times each unique value appeared?"
   ]
  },
  {
   "cell_type": "code",
   "execution_count": null,
   "metadata": {},
   "outputs": [],
   "source": [
    "df.OFFENSE.value_counts()"
   ]
  },
  {
   "cell_type": "code",
   "execution_count": null,
   "metadata": {},
   "outputs": [],
   "source": [
    "df.EVENTDESC.value_counts()"
   ]
  },
  {
   "cell_type": "markdown",
   "metadata": {},
   "source": [
    "Why is \"LARCENY\" a higher occurence in the \"EVENTDESC\" column, if when we looked into the \"OFFENSE\" column, \"BURGLARY - VEHICLE\" is first? Let's look into this a little more.\n",
    "\n",
    "\n",
    "## GroupBy "
   ]
  },
  {
   "cell_type": "code",
   "execution_count": null,
   "metadata": {},
   "outputs": [],
   "source": [
    "df.groupby(\"EVENTDESC\").OFFENSE.value_counts()\n",
    "\n",
    "#turn the series into a DF \n",
    "df.groupby(\"EVENTDESC\").OFFENSE.value_counts().to_frame()"
   ]
  },
  {
   "cell_type": "markdown",
   "metadata": {},
   "source": [
    "From this DF we can see that \"LARCENY\" has the most OFFENSES within that category. When you add the totals from \"THEFT MISD ( UNDER $ 950)\" ,\" THEFT  FELONY (OVER $ 950)\", and\n",
    "\"THEFT FROM PERSON\" they equal more than \"BURGLARY - VEHICLE\", but \"BURGLARY AUTO\" as an offense alone is the highest in number."
   ]
  },
  {
   "cell_type": "markdown",
   "metadata": {},
   "source": [
    "# <font color = \"red\"> YOUR TURN! </font>\n",
    "\n",
    "Could there be any relationship with the Day of the Week and the calls? Try out different functions to see if there is any significance?"
   ]
  },
  {
   "cell_type": "code",
   "execution_count": null,
   "metadata": {
    "collapsed": true
   },
   "outputs": [],
   "source": [
    "#count the amount of calls per day\n",
    "..."
   ]
  },
  {
   "cell_type": "markdown",
   "metadata": {},
   "source": [
    "With the day that has the most calls, check the type of offense that appears the most."
   ]
  },
  {
   "cell_type": "code",
   "execution_count": null,
   "metadata": {},
   "outputs": [],
   "source": [
    "#only display rows with the D.O.W that appears the most\n",
    "#create a temp df\n",
    "..."
   ]
  },
  {
   "cell_type": "code",
   "execution_count": null,
   "metadata": {
    "collapsed": true
   },
   "outputs": [],
   "source": [
    "#count the number of offenses by type\n",
    "..."
   ]
  },
  {
   "cell_type": "code",
   "execution_count": null,
   "metadata": {
    "collapsed": true
   },
   "outputs": [],
   "source": [
    "#count the number of eventdesc by type\n",
    "..."
   ]
  },
  {
   "cell_type": "markdown",
   "metadata": {},
   "source": [
    "Do these numbers match the results of the overall DF?\n",
    "\n",
    "\n",
    "Let's try something else, Friday and Saturday nights are typically associated with being the \"party\" time. If this is true should there be more Liquor/Drug/Disordely Conduct/etc. occurrences those nights?\n",
    "\n",
    "Let's try it with Fridays!"
   ]
  },
  {
   "cell_type": "code",
   "execution_count": null,
   "metadata": {},
   "outputs": [],
   "source": [
    "#only display rows with the D.O.W of Friday\n",
    "#create a temp df\n",
    "\n",
    "fri =df[df[\"D.O.W.\"] == \"Friday\"]\n",
    "fri.head()"
   ]
  },
  {
   "cell_type": "code",
   "execution_count": null,
   "metadata": {
    "collapsed": true
   },
   "outputs": [],
   "source": [
    "#count the number of offenses by type\n",
    "..."
   ]
  },
  {
   "cell_type": "code",
   "execution_count": null,
   "metadata": {
    "collapsed": true
   },
   "outputs": [],
   "source": [
    "#count the number of events by type\n",
    "..."
   ]
  },
  {
   "cell_type": "markdown",
   "metadata": {},
   "source": [
    "This will not give us the information we want. Instead let us look at each EVENTDESC and group by the D.O.W. that appears the most per EVENTDESC.\n",
    "\n",
    "Also, I realized that \"D.O.W.\" is becoming a problem with the periods when I am trying to call my series. I want to change the name of the column again, how can I do that?"
   ]
  },
  {
   "cell_type": "code",
   "execution_count": null,
   "metadata": {},
   "outputs": [],
   "source": [
    "#change column name\n",
    "df = ...\n",
    "df.head()"
   ]
  },
  {
   "cell_type": "markdown",
   "metadata": {},
   "source": [
    "# <font color = \"red\"> GROUP WORK</font> \n",
    "## What do YOU want to find out? YOUR DATA INVESTIGATION\n",
    "\n",
    "In this notebook you have been learning all these techniques to be able to manipulate your dataframe to your preference. We know how to clean and explore our data, but what questions or topics did you actually want to learn from the data? \n",
    "\n",
    "<b> * In groups of 2-4 people, investigate the dataframe in this notebook and pick a question/topic to answer. Using the techniques you learned today, show relationships and results that would support that question/topic. \n",
    "</b><br><br>\n",
    "<i>If we have time</i> <b>each</b> group will present their investigations and why they are significant to the class.\n"
   ]
  },
  {
   "cell_type": "code",
   "execution_count": null,
   "metadata": {
    "collapsed": true
   },
   "outputs": [],
   "source": []
  }
 ],
 "metadata": {
  "kernelspec": {
   "display_name": "Python 3",
   "language": "python",
   "name": "python3"
  },
  "language_info": {
   "codemirror_mode": {
    "name": "ipython",
    "version": 3
   },
   "file_extension": ".py",
   "mimetype": "text/x-python",
   "name": "python",
   "nbconvert_exporter": "python",
   "pygments_lexer": "ipython3",
   "version": "3.6.2"
  }
 },
 "nbformat": 4,
 "nbformat_minor": 2
}
