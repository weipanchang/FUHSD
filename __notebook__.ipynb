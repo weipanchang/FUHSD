{
  "cells": [
    {
      "cell_type": null,
      "metadata": {
        "_cell_guid": "a4a35fbf-a977-d647-3484-6aeaa908c970"
      },
      "source": [
        "%matplotlib inline\n",
        "\n",
        "import numpy as np\n",
        "import pandas as pd\n",
        "\n",
        "import matplotlib.pyplot as plt\n",
        "import seaborn as sns"
      ]
    },
    {
      "cell_type": "code",
      "execution_count": 14,
      "metadata": {
        "_cell_guid": "580b7fe2-ed78-07c8-9256-2b74a52344e8"
      },
      "outputs": [],
      "source": [
        "data = pd.read_csv(\"../input/Salaries.csv\")\n",
        "data.info()"
      ]
    },
    {
      "cell_type": "code",
      "execution_count": 15,
      "metadata": {
        "_cell_guid": "e4cbd9de-34e8-70c3-3a36-c2544b655e66"
      },
      "outputs": [],
      "source": [
        "data = data.drop([\"Id\", \"Notes\", \"Status\", \"Agency\"], axis = 1)\n",
        "data = data.dropna()\n",
        "data.head()"
      ]
    },
    {
      "cell_type": "code",
      "execution_count": 16,
      "metadata": {
        "_cell_guid": "4e5edf14-6e85-a111-2005-c43ed198b0e9"
      },
      "outputs": [],
      "source": [
        "columns = [\"BasePay\", \"OvertimePay\", \"OtherPay\", \"Benefits\", \"TotalPay\", \"TotalPayBenefits\"]\n",
        "columns"
      ]
    },
    {
      "cell_type": "code",
      "execution_count": 17,
      "metadata": {
        "_cell_guid": "64ed51ae-347e-e45b-8377-d05a005d6947"
      },
      "outputs": [],
      "source": [
        "data = data[data.BasePay != \"Not Provided\"]\n",
        "data[columns] = data[columns].astype(np.float32)\n",
        "data[columns].head()"
      ]
    },
    {
      "cell_type": "code",
      "execution_count": 18,
      "metadata": {
        "_cell_guid": "db07aa51-2901-a57c-ecd3-44464c1574d9"
      },
      "outputs": [],
      "source": [
        "# Delete rows which have BasePay < 0\n",
        "data = data[data.BasePay >= 0]\n",
        "data = data[data.OvertimePay >= 0]\n",
        "data = data[data.OtherPay >= 0]\n",
        "\n",
        "# Calculating (BasePay + OvertimePay + OtherPay) and (TotalPay + Benefits)\n",
        "# SumedTotal = BasePay + OvertimePay + OtherPay\n",
        "# SumedBenefits = TotalPay + Benefits\n",
        "data[\"SumedTotal\"] = data[\"BasePay\"] + data[\"OvertimePay\"] + data[\"OtherPay\"]\n",
        "data[\"SumedBenefits\"] = data[\"TotalPay\"] + data[\"Benefits\"]\n",
        "\n",
        "# Delete rows where SumedTotal != TotalPay and SumedBenefits != TotalPayBenefits\n",
        "data = data[data.SumedTotal == data.TotalPay]\n",
        "data = data[data.SumedBenefits == data.TotalPayBenefits]\n",
        "\n",
        "# drop columns\n",
        "data = data.drop([\"SumedTotal\", \"SumedBenefits\"], axis = 1)"
      ]
    },
    {
      "cell_type": "code",
      "execution_count": 19,
      "metadata": {
        "_cell_guid": "bd781daf-4f27-b538-033b-8d4ebc394e43"
      },
      "outputs": [],
      "source": [
        "# Group by JobTitle to find most likely and unlikely job title\n",
        "df_Job = data[columns + [\"JobTitle\"]].groupby(by = [\"JobTitle\"], as_index = False)\n",
        "df_Job = df_Job.mean()\n",
        "\n",
        "fig, (axis1,axis2) = plt.subplots(1,2,figsize=(20,5))\n",
        "\n",
        "# 1] 10 job profile with highest BasePay \n",
        "# 2] 10 job profile with lowest BasePay\n",
        "sns.barplot(x = \"BasePay\", y = \"JobTitle\", data = df_Job.sort_values(by = \"BasePay\", ascending = False).head(10), \n",
        "            palette=\"Blues_d\", ax = axis1)\n",
        "sns.barplot(x = \"BasePay\", y = \"JobTitle\", data = df_Job.sort_values(by = \"BasePay\").head(10), palette=\"Blues_d\", \n",
        "            ax = axis2)\n",
        "\n",
        "fig.tight_layout()"
      ]
    },
    {
      "cell_type": "code",
      "execution_count": 20,
      "metadata": {
        "_cell_guid": "df3044c7-c787-73a1-e3c0-bd4f7944dfd1"
      },
      "outputs": [],
      "source": [
        "fig, (axis1,axis2) = plt.subplots(1,2,figsize=(20,5))\n",
        "\n",
        "# 1] 10 job profile with highest Benefits\n",
        "# 2] 10 job profile with lowest Benefits\n",
        "sns.barplot(x = \"Benefits\", y = \"JobTitle\", data = df_Job.sort_values(by = \"Benefits\", ascending = False).head(10), palette=\"Blues_d\", ax = axis1)\n",
        "sns.barplot(x = \"Benefits\", y = \"JobTitle\", data = df_Job.sort_values(by = \"Benefits\").head(10), palette=\"Blues_d\", ax = axis2)\n",
        "\n",
        "fig.tight_layout()"
      ]
    },
    {
      "cell_type": "code",
      "execution_count": 21,
      "metadata": {
        "_cell_guid": "e209a039-90c0-8876-b914-af77cf0c2a2f"
      },
      "outputs": [],
      "source": [
        "fig, ((axis1,axis2), (axis3,axis4)) = plt.subplots(2,2,figsize=(20,10))\n",
        "\n",
        "# 1] 10 job profile with highest TotalPay and TotalPayBenefits\n",
        "# 2] 10 job profile with lowest TotalPay and TotalPayBenefits\n",
        "sns.barplot(x = \"TotalPay\", y = \"JobTitle\", data = df_Job.sort_values(by = \"TotalPay\", ascending = False).head(10), palette=\"Blues_d\", ax = axis1)\n",
        "sns.barplot(x = \"TotalPay\", y = \"JobTitle\", data = df_Job.sort_values(by = \"TotalPay\").head(10), palette=\"Blues_d\", ax = axis2)\n",
        "\n",
        "sns.barplot(x = \"TotalPayBenefits\", y = \"JobTitle\", data = df_Job.sort_values(by = \"TotalPayBenefits\", ascending = False).head(10), palette=\"Blues_d\", ax = axis3)\n",
        "sns.barplot(x = \"TotalPayBenefits\", y = \"JobTitle\", data = df_Job.sort_values(by = \"TotalPayBenefits\").head(10), palette=\"Blues_d\", ax = axis4)\n",
        "\n",
        "fig.tight_layout()"
      ]
    },
    {
      "cell_type": "code",
      "execution_count": 22,
      "metadata": {
        "_cell_guid": "06a88137-13be-0997-e3ba-ccfb86425c0b"
      },
      "outputs": [],
      "source": [
        "df_Year = data.groupby(by = \"Year\", as_index = False).mean()\n",
        "df_Year"
      ]
    },
    {
      "cell_type": "code",
      "execution_count": 23,
      "metadata": {
        "_cell_guid": "20cab369-4659-81fd-731e-92680d24c495"
      },
      "outputs": [],
      "source": [
        "fig, ((axis1, axis2, axis3), (axis4, axis5, axis6)) = plt.subplots(2,3,figsize=(30,20))\n",
        "\n",
        "# All six pay year wise\n",
        "sns.barplot(x = \"Year\", y = \"BasePay\", data = df_Year, ax = axis1)\n",
        "sns.barplot(x = \"Year\", y = \"OvertimePay\", data = df_Year, ax = axis2)\n",
        "sns.barplot(x = \"Year\", y = \"OtherPay\", data = df_Year, ax = axis3)\n",
        "\n",
        "sns.barplot(x = \"Year\", y = \"Benefits\", data = df_Year, ax = axis4)\n",
        "sns.barplot(x = \"Year\", y = \"TotalPay\", data = df_Year, ax = axis5)\n",
        "sns.barplot(x = \"Year\", y = \"TotalPayBenefits\", data = df_Year, ax = axis6)\n",
        "\n",
        "fig.tight_layout()\n",
        "\n",
        "# Overtime pay => 2012 < 2013 < 2014\n",
        "# but intrestingly TotalPayBenifit remains almost equal throughout 2012,2013 and 2014"
      ]
    },
    {
      "cell_type": "code",
      "execution_count": 24,
      "metadata": {
        "_cell_guid": "40dc3f64-d1d9-0d54-ebb5-6138c64df957"
      },
      "outputs": [],
      "source": [
        "# Distribution of TotalPay of people\n",
        "fig, (axis1) = plt.subplots(1, 1, figsize=(20,10))\n",
        "\n",
        "sns.kdeplot(data[\"TotalPay\"], shade=True, color=\"r\", ax = axis1)\n",
        "sns.kdeplot(data[\"TotalPayBenefits\"], shade=True, color=\"b\", ax = axis1)"
      ]
    }
  ],
  "metadata": {
    "_change_revision": 2,
    "_is_fork": false,
    "kernelspec": {
      "display_name": "Python 3",
      "language": "python",
      "name": "python3"
    },
    "language_info": {
      "codemirror_mode": {
        "name": "ipython",
        "version": 3
      },
      "file_extension": ".py",
      "mimetype": "text/x-python",
      "name": "python",
      "nbconvert_exporter": "python",
      "pygments_lexer": "ipython3",
      "version": "3.5.2"
    }
  },
  "nbformat": 4,
  "nbformat_minor": 0
}